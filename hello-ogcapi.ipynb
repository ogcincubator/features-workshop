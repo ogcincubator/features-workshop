{
 "cells": [
  {
   "cell_type": "code",
   "execution_count": null,
   "id": "57109409-1573-4f6e-80f9-667761e3cdd3",
   "metadata": {},
   "outputs": [],
   "source": [
    "!pip3 install owslib"
   ]
  },
  {
   "cell_type": "code",
   "execution_count": null,
   "id": "31981844-c9d0-45b3-90b4-ca2e228bc11f",
   "metadata": {},
   "outputs": [],
   "source": [
    "!pip install --upgrade pip"
   ]
  },
  {
   "cell_type": "markdown",
   "id": "5a1d2966-095d-406b-84a2-5be599973a4b",
   "metadata": {},
   "source": [
    "## Connect to a Features endpoint"
   ]
  },
  {
   "cell_type": "code",
   "execution_count": null,
   "id": "a1668b50-c39d-4ce0-a88f-fbb0a273027e",
   "metadata": {},
   "outputs": [],
   "source": [
    "from owslib.ogcapi.features import Features # make sure to select the right kernel!"
   ]
  },
  {
   "cell_type": "markdown",
   "id": "3c6ed9b5-64ef-403d-8563-8b1957e531f3",
   "metadata": {},
   "source": [
    "Add the Landing Page"
   ]
  },
  {
   "cell_type": "code",
   "execution_count": null,
   "id": "4de6904c-bff9-49da-8e29-f45851703950",
   "metadata": {},
   "outputs": [],
   "source": [
    " w = Features('https://pygeoapi.glodal-inc.net/')"
   ]
  },
  {
   "cell_type": "code",
   "execution_count": null,
   "id": "73a47701-dd4d-42ed-8b33-16d3e745681d",
   "metadata": {},
   "outputs": [],
   "source": [
    "# w = Features('https://emotional.byteroad.net/')"
   ]
  },
  {
   "cell_type": "code",
   "execution_count": null,
   "id": "47af70b0-4876-4420-928d-cd52257e3201",
   "metadata": {},
   "outputs": [],
   "source": [
    "w.url"
   ]
  },
  {
   "cell_type": "markdown",
   "id": "01beb858-afea-4c98-9efd-e2d710a8b235",
   "metadata": {},
   "source": [
    "Check conformance declaration"
   ]
  },
  {
   "cell_type": "code",
   "execution_count": null,
   "id": "f6de33fb-786b-4fb5-82ff-e71aeb30b36a",
   "metadata": {},
   "outputs": [],
   "source": [
    "conformance = w.conformance()"
   ]
  },
  {
   "cell_type": "code",
   "execution_count": null,
   "id": "7ca9e615-af4d-4c0c-857e-16766e0770d0",
   "metadata": {
    "scrolled": true
   },
   "outputs": [],
   "source": [
    "conformance"
   ]
  },
  {
   "cell_type": "markdown",
   "id": "f4f90790-75b7-4dcf-af45-13dee8cc9711",
   "metadata": {},
   "source": [
    "Check OpenAPI document"
   ]
  },
  {
   "cell_type": "code",
   "execution_count": null,
   "id": "95a3afaa-c30b-469f-b411-4290010dac53",
   "metadata": {},
   "outputs": [],
   "source": [
    "api = w.api()"
   ]
  },
  {
   "cell_type": "code",
   "execution_count": null,
   "id": "daa098bd-e630-4c26-b292-3ee65a572f20",
   "metadata": {
    "scrolled": true
   },
   "outputs": [],
   "source": [
    "api"
   ]
  },
  {
   "cell_type": "markdown",
   "id": "c738abac-557f-44c8-8959-4a858ac5d40c",
   "metadata": {},
   "source": [
    "Check Collections"
   ]
  },
  {
   "cell_type": "code",
   "execution_count": null,
   "id": "6918d1a5-77f5-4577-8fe3-51d9e1b41e00",
   "metadata": {},
   "outputs": [],
   "source": [
    "collections = w.collections()"
   ]
  },
  {
   "cell_type": "code",
   "execution_count": null,
   "id": "beb82edd-80c3-4a51-b719-846d27d3fe06",
   "metadata": {},
   "outputs": [],
   "source": [
    "len(collections['collections'])"
   ]
  },
  {
   "cell_type": "code",
   "execution_count": null,
   "id": "220e91f3-2c6b-459b-9939-711d0c0612d2",
   "metadata": {},
   "outputs": [],
   "source": [
    "collections"
   ]
  },
  {
   "cell_type": "markdown",
   "id": "8f3e6a01-982a-4c63-b342-685736a40e14",
   "metadata": {},
   "source": [
    "Now check the *feature* collections"
   ]
  },
  {
   "cell_type": "code",
   "execution_count": null,
   "id": "b069c778-f3a3-4067-bdfd-157b020911d1",
   "metadata": {},
   "outputs": [],
   "source": [
    "feature_collections = w.feature_collections()"
   ]
  },
  {
   "cell_type": "code",
   "execution_count": null,
   "id": "983e2a9e-b54a-4a59-a375-0c1e3b25f5da",
   "metadata": {},
   "outputs": [],
   "source": [
    "feature_collections"
   ]
  },
  {
   "cell_type": "markdown",
   "id": "fbd01fbc-cb84-438e-b35a-aedcf1dc0a24",
   "metadata": {},
   "source": [
    "Check *one* collection"
   ]
  },
  {
   "cell_type": "code",
   "execution_count": null,
   "id": "27a8a340-9aa9-44a6-8608-bd2000c46561",
   "metadata": {},
   "outputs": [],
   "source": [
    "dams = w.collection('W01')\n",
    "#dams = w.collection('hex350_grid_cardio_1920')"
   ]
  },
  {
   "cell_type": "markdown",
   "id": "2be2e3c6-59de-4c60-b29c-38361fb38163",
   "metadata": {},
   "source": [
    "Check collection metadata"
   ]
  },
  {
   "cell_type": "code",
   "execution_count": null,
   "id": "5218b254-af15-4d39-b84d-6591f77d1e1e",
   "metadata": {},
   "outputs": [],
   "source": [
    "dams['id']"
   ]
  },
  {
   "cell_type": "code",
   "execution_count": null,
   "id": "56f16a46-dd01-4130-aece-5dbd38d4f010",
   "metadata": {},
   "outputs": [],
   "source": [
    "dams['title']"
   ]
  },
  {
   "cell_type": "code",
   "execution_count": null,
   "id": "7923b415-6eb8-4f85-bc03-32b8ca70c836",
   "metadata": {
    "scrolled": true
   },
   "outputs": [],
   "source": [
    "dams['description']"
   ]
  },
  {
   "cell_type": "markdown",
   "id": "0173fd8f-dbb0-4b7c-be2c-f0a7f9f76649",
   "metadata": {},
   "source": [
    "Get queryables"
   ]
  },
  {
   "cell_type": "code",
   "execution_count": null,
   "id": "000ee92a-4845-4476-8cbc-d25f450fc380",
   "metadata": {},
   "outputs": [],
   "source": [
    "dams_queryables = w.collection_queryables('W01')\n",
    "#dams_queryables = w.collection_queryables('hex350_grid_cardio_1920')"
   ]
  },
  {
   "cell_type": "code",
   "execution_count": null,
   "id": "383ce873-e438-4b9a-a1de-8a90c8fbf8ac",
   "metadata": {},
   "outputs": [],
   "source": [
    "len(dams_queryables['properties'])"
   ]
  },
  {
   "cell_type": "code",
   "execution_count": null,
   "id": "959bcdb4-8aa5-42a5-af75-d7dc8944afda",
   "metadata": {},
   "outputs": [],
   "source": [
    "dams_queryables"
   ]
  },
  {
   "cell_type": "markdown",
   "id": "0c93e0a2-ba1f-4fef-95b7-ca60e995ed15",
   "metadata": {},
   "source": [
    "Get the data"
   ]
  },
  {
   "cell_type": "code",
   "execution_count": null,
   "id": "047df798-7090-412a-9b1a-632f6eae02c5",
   "metadata": {},
   "outputs": [],
   "source": [
    "dams_query = w.collection_items('W01')\n",
    "#dams_query = w.collection_items('hex350_grid_cardio_1920')"
   ]
  },
  {
   "cell_type": "code",
   "execution_count": null,
   "id": "d0ebb8a7-3461-40b0-852b-48de82404805",
   "metadata": {},
   "outputs": [],
   "source": [
    "dams_query"
   ]
  },
  {
   "cell_type": "markdown",
   "id": "4cfc6c36-310c-4e03-9e22-31c7608ed7d7",
   "metadata": {},
   "source": [
    "Get the properties of a specific item"
   ]
  },
  {
   "cell_type": "code",
   "execution_count": null,
   "id": "e303597b-e88b-411b-81bc-ef7b013dd33a",
   "metadata": {},
   "outputs": [],
   "source": [
    "dams_query['features'][0]['properties']"
   ]
  },
  {
   "cell_type": "markdown",
   "id": "db5ba7f8-ce3f-4594-a3c8-6d9d01552dcb",
   "metadata": {},
   "source": [
    "## Integrate this with other libraries"
   ]
  },
  {
   "cell_type": "markdown",
   "id": "d8485664-dcbe-45e9-ac3c-f52905c02116",
   "metadata": {},
   "source": [
    "Put it into a data frame"
   ]
  },
  {
   "cell_type": "code",
   "execution_count": null,
   "id": "429c3e04-7552-437c-b6ae-423c8c103e29",
   "metadata": {},
   "outputs": [],
   "source": [
    "!pip install geopandas mapclassify branca folium"
   ]
  },
  {
   "cell_type": "code",
   "execution_count": null,
   "id": "8db92486-7f75-46dc-a226-b84e34e25708",
   "metadata": {},
   "outputs": [],
   "source": [
    "import geopandas"
   ]
  },
  {
   "cell_type": "code",
   "execution_count": null,
   "id": "53a0d835-1067-4961-80e2-71722b54571c",
   "metadata": {},
   "outputs": [],
   "source": [
    "df = geopandas.GeoDataFrame.from_features(dams_query)\n",
    "# Set crs / CRS (座標系)を設定する\n",
    "df = df.set_crs(epsg=4326)"
   ]
  },
  {
   "cell_type": "code",
   "execution_count": null,
   "id": "5cc6e02d-84e2-4b1b-8d0e-d5d90fd62c3a",
   "metadata": {
    "scrolled": true
   },
   "outputs": [],
   "source": [
    "df"
   ]
  },
  {
   "cell_type": "markdown",
   "id": "0bb0db27-455d-43ff-9aae-affb3fb88145",
   "metadata": {},
   "source": [
    "Make a map"
   ]
  },
  {
   "cell_type": "code",
   "execution_count": null,
   "id": "174e4e7d-15ff-45f1-8a62-633bd355f490",
   "metadata": {},
   "outputs": [],
   "source": [
    "df.plot()"
   ]
  },
  {
   "cell_type": "code",
   "execution_count": null,
   "id": "7a3c4fd5-9a3e-4f7c-92e2-5dcb200d0013",
   "metadata": {
    "scrolled": true
   },
   "outputs": [],
   "source": [
    "df.explore()"
   ]
  },
  {
   "cell_type": "markdown",
   "id": "38dbea79",
   "metadata": {},
   "source": [
    "## バッファ解析 / Buffer analysis\n",
    "\n",
    "バッファ解析は、対象の地物（ポイント、ライン、ポリゴン）から一定距離の円形ポリゴンを作成する処理で、GISを使う空間データ解析で最も使われる手法のひとつです。これによって地物同士の近接性やほかのレイヤとの関連性の分析を支援します。詳しくは[こちら](https://club.informatix.co.jp/?p=1171)や[こちら](https://geographicbook.com/buffer-analysis/)をご覧下さい。\n",
    "\n",
    "Buffer analysis is a process of creating circular polygons at a specified distance from the target features (points, lines, polygons). It is one of the most commonly used methods in spatial data analysis using GIS. This process supports the analysis of the proximity between features and their relationships with other layers. See details in [this (ja)](https://club.informatix.co.jp/?p=1171) and [this (en)](https://geographicbook.com/buffer-analysis/) \n"
   ]
  },
  {
   "cell_type": "code",
   "execution_count": null,
   "id": "e558c7fc-fea7-453d-87a8-4fec98227024",
   "metadata": {},
   "outputs": [],
   "source": [
    "# 投影系に変換（メートル単位のバッファが使えるようにする） / Convert to projected coordinate system (to use buffer in meters)\n",
    "df_proj = df.to_crs(epsg=3857)\n",
    "\n",
    "# バッファ距離（例：5000メートル）/ Buffer distance (e.g., 5000 meters)\n",
    "df_proj['buffer'] = df_proj.buffer(5000)\n",
    "\n",
    "# バッファレイヤをGeoDataFrameに変換 / Convert buffer layer to GeoDataFrame\n",
    "buffers = geopandas.GeoDataFrame(df_proj[['w01_002']], geometry=df_proj['buffer'], crs=df_proj.crs)\n",
    "\n",
    "# 元の座標系に戻す（必要であれば） / Convert back to original coordinate system (if needed)\n",
    "buffers = buffers.to_crs(epsg=4326)"
   ]
  },
  {
   "cell_type": "code",
   "execution_count": null,
   "id": "22b701e5",
   "metadata": {},
   "outputs": [],
   "source": [
    "import matplotlib.pyplot as plt\n",
    "\n",
    "# 可視化 visualization\n",
    "fig, ax = plt.subplots(figsize=(8, 8))\n",
    "df.plot(ax=ax, color='blue', label='Point')\n",
    "buffers.plot(ax=ax, color='lightblue', alpha=0.5, edgecolor='gray', label='Buffer')\n",
    "plt.legend()\n",
    "plt.title(\"Point Buffer Analysis\")\n",
    "plt.xlabel(\"Longitude\")\n",
    "plt.ylabel(\"Latitude\")\n",
    "plt.grid(True)\n",
    "plt.show()\n"
   ]
  },
  {
   "cell_type": "code",
   "execution_count": null,
   "id": "e82cf3b6",
   "metadata": {},
   "outputs": [],
   "source": [
    "buffers.explore()"
   ]
  },
  {
   "cell_type": "markdown",
   "id": "9d0c1aac",
   "metadata": {},
   "source": [
    "ほかにも多数の空間データ解析の手法があります。メンターにお問い合わせください！\n",
    "\n",
    "There are many other spatial data analysis methods available. Please contact your mentor for more information!"
   ]
  }
 ],
 "metadata": {
  "kernelspec": {
   "display_name": "base",
   "language": "python",
   "name": "python3"
  },
  "language_info": {
   "codemirror_mode": {
    "name": "ipython",
    "version": 3
   },
   "file_extension": ".py",
   "mimetype": "text/x-python",
   "name": "python",
   "nbconvert_exporter": "python",
   "pygments_lexer": "ipython3",
   "version": "3.12.7"
  }
 },
 "nbformat": 4,
 "nbformat_minor": 5
}
